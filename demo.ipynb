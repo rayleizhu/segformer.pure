{
 "cells": [
  {
   "cell_type": "code",
   "execution_count": 3,
   "metadata": {},
   "outputs": [
    {
     "name": "stdout",
     "output_type": "stream",
     "text": [
      "{'segformer.b0.512x512.ade.160k.pth': 'https://drive.google.com/uc?export=download&id=1je1GL6TXU3U-cZZsUv08ITUkVW4mBPYy', 'segformer.b0.1024x1024.city.160k.pth': 'https://drive.google.com/uc?export=download&id=10lD5u0xVDJDKkIYxJDWkSeA2mfK_tgh9'}\n",
      "torch.Size([2, 20, 128, 128])\n"
     ]
    }
   ],
   "source": [
    "from networks.segformer import *\n",
    "import torch\n",
    "\n",
    "model1 = SegFormerB0(num_classes=150, encoder_weight=None)\n",
    "print(model1.official_ckpts) # print officially released checkpoints\n",
    "model1.load_official_state_dict('segformer.b0.512x512.ade.160k.pth', strict=True) # load official released weights\n",
    "\n",
    "model2 = SegFormerB0(num_classes=1, encoder_weight=None) # binary classifier\n",
    "model2.load_official_state_dict('segformer.b0.512x512.ade.160k.pth', strict=False) # the final prediction layer is not loaded\n",
    "\n",
    "model3 = SegFormerB0(num_classes=20, encoder_weight='imagenet') # load only ImageNet-pretained backbone\n",
    "\n",
    "x = torch.zeros((2, 3, 512, 512))\n",
    "pred = model3(x)\n",
    "print(pred.size()) # final resolution is (h/4, w/4)"
   ]
  },
  {
   "cell_type": "code",
   "execution_count": null,
   "metadata": {},
   "outputs": [],
   "source": []
  }
 ],
 "metadata": {
  "interpreter": {
   "hash": "f0f790753a7ecfa3d3429899761eb0f15fc27906d05ab18d304ba92e5c2e0653"
  },
  "kernelspec": {
   "display_name": "Python 3.7.3 64-bit ('base': conda)",
   "language": "python",
   "name": "python3"
  },
  "language_info": {
   "codemirror_mode": {
    "name": "ipython",
    "version": 3
   },
   "file_extension": ".py",
   "mimetype": "text/x-python",
   "name": "python",
   "nbconvert_exporter": "python",
   "pygments_lexer": "ipython3",
   "version": "3.7.11"
  },
  "orig_nbformat": 4
 },
 "nbformat": 4,
 "nbformat_minor": 2
}
